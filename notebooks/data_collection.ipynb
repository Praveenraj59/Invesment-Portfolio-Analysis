{
 "cells": [
  {
   "cell_type": "code",
   "execution_count": 1,
   "metadata": {},
   "outputs": [
    {
     "name": "stderr",
     "output_type": "stream",
     "text": [
      "[*********************100%***********************]  1 of 1 completed\n"
     ]
    },
    {
     "name": "stdout",
     "output_type": "stream",
     "text": [
      "Price       Adj Close      Close       High        Low       Open     Volume\n",
      "Ticker           TSLA       TSLA       TSLA       TSLA       TSLA       TSLA\n",
      "Date                                                                        \n",
      "2020-01-02  28.684000  28.684000  28.713333  28.114000  28.299999  142981500\n",
      "2020-01-03  29.534000  29.534000  30.266666  29.128000  29.366667  266677500\n",
      "2020-01-06  30.102667  30.102667  30.104000  29.333332  29.364668  151995000\n",
      "2020-01-07  31.270666  31.270666  31.441999  30.224001  30.760000  268231500\n",
      "2020-01-08  32.809334  32.809334  33.232666  31.215334  31.580000  467164500\n"
     ]
    }
   ],
   "source": [
    "import yfinance as yf\n",
    "import pandas as pd\n",
    "\n",
    "# Function to download stock data from Yahoo Finance\n",
    "def get_stock_data(ticker, start_date, end_date):\n",
    "    stock_data = yf.download(ticker, start=start_date, end=end_date)\n",
    "    return stock_data\n",
    "\n",
    "# Example usage: Get stock data for Apple (AAPL) from 2020 to 2023\n",
    "ticker = \"TSLA\"\n",
    "start_date = \"2020-01-01\"\n",
    "end_date = \"2023-01-01\"\n",
    "stock_data = get_stock_data(ticker, start_date, end_date)\n",
    "\n",
    "# Save the data to CSV\n",
    "stock_data.to_csv(f'{ticker}_data.csv')\n",
    "\n",
    "print(stock_data.head())\n"
   ]
  }
 ],
 "metadata": {
  "kernelspec": {
   "display_name": "Python 3",
   "language": "python",
   "name": "python3"
  },
  "language_info": {
   "codemirror_mode": {
    "name": "ipython",
    "version": 3
   },
   "file_extension": ".py",
   "mimetype": "text/x-python",
   "name": "python",
   "nbconvert_exporter": "python",
   "pygments_lexer": "ipython3",
   "version": "3.10.11"
  }
 },
 "nbformat": 4,
 "nbformat_minor": 2
}
